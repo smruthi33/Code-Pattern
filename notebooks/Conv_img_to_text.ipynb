{
 "cells": [
  {
   "cell_type": "markdown",
   "metadata": {},
   "source": [
    "# Convert Image To Text "
   ]
  },
  {
   "cell_type": "markdown",
   "metadata": {},
   "source": [
    "## 1. Setup\n",
    "\n",
    "To prepare your environment, you need to install some packages and enter credentials for the Watson services."
   ]
  },
  {
   "cell_type": "markdown",
   "metadata": {},
   "source": [
    "## 1.1 Install the necessary packages\n",
    "\n",
    "You will need to install the following packages:\n",
    "PIL: The Python Imaging Library (PIL) adds image processing capabilities to your Python interpreter.\n",
    "pytesseract: Python-tesseract is a python wrapper for Google's Tesseract-OCR.\n",
    "ibm-cos-sdk: Object Storage library for Python"
   ]
  },
  {
   "cell_type": "code",
   "execution_count": 1,
   "metadata": {},
   "outputs": [
    {
     "name": "stdout",
     "output_type": "stream",
     "text": [
      "Requirement already satisfied: pytesseract in c:\\users\\ibm_admin\\anaconda3\\lib\\site-packages\n",
      "Requirement already satisfied: Pillow in c:\\users\\ibm_admin\\anaconda3\\lib\\site-packages (from pytesseract)\n",
      "Requirement already satisfied: olefile in c:\\users\\ibm_admin\\anaconda3\\lib\\site-packages (from Pillow->pytesseract)\n"
     ]
    },
    {
     "name": "stderr",
     "output_type": "stream",
     "text": [
      "You are using pip version 9.0.1, however version 10.0.1 is available.\n",
      "You should consider upgrading via the 'python -m pip install --upgrade pip' command.\n"
     ]
    }
   ],
   "source": [
    "!pip install pytesseract"
   ]
  },
  {
   "cell_type": "code",
   "execution_count": 2,
   "metadata": {},
   "outputs": [
    {
     "name": "stdout",
     "output_type": "stream",
     "text": [
      "Requirement already satisfied: ibm-cos-sdk in c:\\users\\ibm_admin\\anaconda3\\lib\\site-packages\n",
      "Requirement already satisfied: ibm-cos-sdk-s3transfer==2.*,>=2.0.0 in c:\\users\\ibm_admin\\anaconda3\\lib\\site-packages (from ibm-cos-sdk)\n",
      "Requirement already satisfied: ibm-cos-sdk-core==2.*,>=2.0.0 in c:\\users\\ibm_admin\\anaconda3\\lib\\site-packages (from ibm-cos-sdk)\n",
      "Requirement already satisfied: python-dateutil<3.0.0,>=2.1 in c:\\users\\ibm_admin\\anaconda3\\lib\\site-packages (from ibm-cos-sdk-core==2.*,>=2.0.0->ibm-cos-sdk)\n",
      "Requirement already satisfied: jmespath<1.0.0,>=0.7.1 in c:\\users\\ibm_admin\\anaconda3\\lib\\site-packages (from ibm-cos-sdk-core==2.*,>=2.0.0->ibm-cos-sdk)\n",
      "Requirement already satisfied: docutils>=0.10 in c:\\users\\ibm_admin\\anaconda3\\lib\\site-packages (from ibm-cos-sdk-core==2.*,>=2.0.0->ibm-cos-sdk)\n",
      "Requirement already satisfied: six>=1.5 in c:\\users\\ibm_admin\\anaconda3\\envs\\tensorflow\\lib\\site-packages (from python-dateutil<3.0.0,>=2.1->ibm-cos-sdk-core==2.*,>=2.0.0->ibm-cos-sdk)\n"
     ]
    },
    {
     "name": "stderr",
     "output_type": "stream",
     "text": [
      "You are using pip version 9.0.1, however version 10.0.1 is available.\n",
      "You should consider upgrading via the 'python -m pip install --upgrade pip' command.\n"
     ]
    }
   ],
   "source": [
    "!pip install ibm-cos-sdk"
   ]
  },
  {
   "cell_type": "markdown",
   "metadata": {},
   "source": [
    "## 1.2 Import packages and libraries\n",
    "Import the packages and libraries that you'll use:"
   ]
  },
  {
   "cell_type": "code",
   "execution_count": 3,
   "metadata": {},
   "outputs": [],
   "source": [
    "try:\n",
    "    import Image\n",
    "except ImportError:\n",
    "    from PIL import Image\n",
    "import pytesseract\n",
    "\n",
    "import ibm_boto3\n",
    "from ibm_botocore.client import Config\n",
    "\n",
    "import json\n",
    "import requests"
   ]
  },
  {
   "cell_type": "markdown",
   "metadata": {},
   "source": [
    "## 2. Configuration\n",
    "Add configurable items of the notebook below"
   ]
  },
  {
   "cell_type": "markdown",
   "metadata": {},
   "source": [
    "### 2.1 Global Variables\n",
    "Add global variables."
   ]
  },
  {
   "cell_type": "code",
   "execution_count": 4,
   "metadata": {
    "collapsed": true
   },
   "outputs": [],
   "source": [
    "req_paths=['C:/Users/IBM_ADMIN/Desktop/Data/Rental_agreement_inserted.png']\n",
    "#credentials_path='C:/Users/IBM_ADMIN/credentials/credentials.json'"
   ]
  },
  {
   "cell_type": "markdown",
   "metadata": {},
   "source": [
    "### 2.2 Connect to Object Storage"
   ]
  },
  {
   "cell_type": "code",
   "execution_count": 5,
   "metadata": {},
   "outputs": [
    {
     "name": "stdout",
     "output_type": "stream",
     "text": [
      "Service credential:\n",
      "{\n",
      "  \"apikey\": \"M26l0YGtTMptoENI4KxIhKoZphyQpsrAG2c3Z_BBEyqJ\",\n",
      "  \"cos_hmac_keys\": {\n",
      "    \"access_key_id\": \"69bf27dc127f4303ac95ce4f550f2b13\",\n",
      "    \"secret_access_key\": \"ddf0bd98fd6316c2604e9babbcaa4f14c0ad9170bde4d66f\"\n",
      "  },\n",
      "  \"endpoints\": \"https://cos-service.bluemix.net/endpoints\",\n",
      "  \"iam_apikey_description\": \"Auto generated apikey during resource-key operation for Instance - crn:v1:bluemix:public:cloud-object-storage:global:a/19f37964ad6f30655b02c7c1c3f92c0c:e857a804-ea66-4403-af9f-dcb1f7be9ae1::\",\n",
      "  \"iam_apikey_name\": \"auto-generated-apikey-69bf27dc-127f-4303-ac95-ce4f550f2b13\",\n",
      "  \"iam_role_crn\": \"crn:v1:bluemix:public:iam::::role:Administrator\",\n",
      "  \"iam_serviceid_crn\": \"crn:v1:bluemix:public:iam-identity::a/19f37964ad6f30655b02c7c1c3f92c0c::serviceid:ServiceId-0f00013b-1f83-4ebe-a235-fd94cc90a5d5\",\n",
      "  \"resource_instance_id\": \"crn:v1:bluemix:public:cloud-object-storage:global:a/19f37964ad6f30655b02c7c1c3f92c0c:e857a804-ea66-4403-af9f-dcb1f7be9ae1::\"\n",
      "}\n"
     ]
    }
   ],
   "source": [
    "'''Creating client...\n",
    "'''\n",
    "\n",
    "with open('C:/Users/IBM_ADMIN/Desktop/credentials.json') as data_file:\n",
    "    credentials = json.load(data_file)\n",
    "print(\"Service credential:\")\n",
    "print(json.dumps(credentials, indent=2))\n",
    "endpoints = requests.get(credentials.get('endpoints')).json()"
   ]
  },
  {
   "cell_type": "code",
   "execution_count": 6,
   "metadata": {},
   "outputs": [
    {
     "data": {
      "text/plain": [
       "{'identity-endpoints': {'iam-policy': 'iampap.bluemix.net',\n",
       "  'iam-token': 'iam.bluemix.net'},\n",
       " 'service-endpoints': {'cross-region': {'ap': {'private': {'Hong Kong': 's3.hkg-ap-geo.objectstorage.service.networklayer.com',\n",
       "     'Seoul': 's3.seo-ap-geo.objectstorage.service.networklayer.com',\n",
       "     'Tokyo': 's3.tok-ap-geo.objectstorage.service.networklayer.com',\n",
       "     'ap-geo': 's3.ap-geo.objectstorage.service.networklayer.com'},\n",
       "    'public': {'Hong Kong': 's3.hkg-ap-geo.objectstorage.softlayer.net',\n",
       "     'Seoul': 's3.seo-ap-geo.objectstorage.softlayer.net',\n",
       "     'Tokyo': 's3.tok-ap-geo.objectstorage.softlayer.net',\n",
       "     'ap-geo': 's3.ap-geo.objectstorage.softlayer.net'}},\n",
       "   'eu': {'private': {'Amsterdam': 's3.ams-eu-geo.objectstorage.service.networklayer.com',\n",
       "     'Frankfurt': 's3.fra-eu-geo.objectstorage.service.networklayer.com',\n",
       "     'Milan': 's3.mil-eu-geo.objectstorage.service.networklayer.com',\n",
       "     'eu-geo': ' s3.eu-geo.objectstorage.service.networklayer.com'},\n",
       "    'public': {'Amsterdam': 's3.ams-eu-geo.objectstorage.softlayer.net',\n",
       "     'Frankfurt': 's3.fra-eu-geo.objectstorage.softlayer.net',\n",
       "     'Milan': 's3.mil-eu-geo.objectstorage.softlayer.net',\n",
       "     'eu-geo': 's3.eu-geo.objectstorage.softlayer.net'}},\n",
       "   'us': {'private': {'Dallas': 's3-api.dal-us-geo.objectstorage.service.networklayer.com',\n",
       "     'San Jose': 's3-api.sjc-us-geo.objectstorage.service.networklayer.com',\n",
       "     'Washington': 's3-api.wdc-us-geo.objectstorage.service.networklayer.com',\n",
       "     'us-geo': 's3-api.us-geo.objectstorage.service.networklayer.com'},\n",
       "    'public': {'Dallas': 's3-api.dal-us-geo.objectstorage.softlayer.net',\n",
       "     'San Jose': 's3-api.sjc-us-geo.objectstorage.softlayer.net',\n",
       "     'Washington': 's3-api.wdc-us-geo.objectstorage.softlayer.net',\n",
       "     'us-geo': 's3-api.us-geo.objectstorage.softlayer.net'}}},\n",
       "  'regional': {'eu-gb': {'private': {'eu-gb': 's3.eu-gb.objectstorage.service.networklayer.com'},\n",
       "    'public': {'eu-gb': 's3.eu-gb.objectstorage.softlayer.net'}},\n",
       "   'us-east': {'private': {'us-east': 's3.us-east.objectstorage.service.networklayer.com'},\n",
       "    'public': {'us-east': 's3.us-east.objectstorage.softlayer.net'}},\n",
       "   'us-south': {'private': {'us-south': 's3.us-south.objectstorage.service.networklayer.com'},\n",
       "    'public': {'us-south': 's3.us-south.objectstorage.softlayer.net'}}},\n",
       "  'single-site': {'che01': {'private': {'che01': 's3.che01.objectstorage.service.networklayer.com'},\n",
       "    'public': {'che01': 's3.che01.objectstorage.softlayer.net'}},\n",
       "   'mel01': {'private': {'mel01': 's3.mel01.objectstorage.service.networklayer.com'},\n",
       "    'public': {'mel01': 's3.mel01.objectstorage.softlayer.net'}},\n",
       "   'tor01': {'private': {'tor01': 's3.tor01.objectstorage.service.networklayer.com'},\n",
       "    'public': {'tor01': 's3.tor01.objectstorage.softlayer.net'}}}}}"
      ]
     },
     "execution_count": 6,
     "metadata": {},
     "output_type": "execute_result"
    }
   ],
   "source": [
    "''' Identify the region based on the region of the cloud object storage\n",
    "'''\n",
    "endpoints"
   ]
  },
  {
   "cell_type": "code",
   "execution_count": 7,
   "metadata": {},
   "outputs": [],
   "source": [
    "''' Creating Client\n",
    "'''\n",
    "iam_host = (endpoints['identity-endpoints']['iam-token'])\n",
    "cos_host = (endpoints['service-endpoints']['cross-region']['us']['public']['us-geo'])\n",
    "api_key = credentials.get('apikey')\n",
    "service_instance_id = credentials.get('resource_instance_id')\n",
    "# Constrict auth and cos endpoint\n",
    "auth_endpoint = \"https://\" + iam_host + \"/oidc/token\"\n",
    "service_endpoint = \"https://\" + cos_host"
   ]
  },
  {
   "cell_type": "code",
   "execution_count": 8,
   "metadata": {},
   "outputs": [],
   "source": [
    "cos = ibm_boto3.client('s3',\n",
    "                    ibm_api_key_id=api_key,\n",
    "                    ibm_service_instance_id=service_instance_id,\n",
    "                    ibm_auth_endpoint=auth_endpoint,\n",
    "                    config=Config(signature_version='oauth'),\n",
    "                    endpoint_url=service_endpoint)"
   ]
  },
  {
   "cell_type": "code",
   "execution_count": 9,
   "metadata": {},
   "outputs": [
    {
     "name": "stdout",
     "output_type": "stream",
     "text": [
      "Current Bucket List:\n",
      "[\n",
      "  \"cnn-donotdelete-pr-9xck8mbas9jav0\",\n",
      "  \"imageanddocumentclassification-donotdelete-pr-asgjxxebuspap7\",\n",
      "  \"nehaprojectfcf93098131e47fc98bf5a35c53613cf\",\n",
      "  \"test1bd1b2ce1e0c4d7a96cca605a2bb0e99\",\n",
      "  \"testdatalegaldocs\",\n",
      "  \"travelprocessmanagement-donotdelete-pr-exgxpknefmd9b3\",\n",
      "  \"trial\",\n",
      "  \"trialdocclassifierd85dc7d8d1b44e2f8d783eb499e697ba\",\n",
      "  \"try1e5849cebfc54c92a72ad6fcde9a73af\"\n",
      "]\n",
      "---\n"
     ]
    }
   ],
   "source": [
    "response = cos.list_buckets()\n",
    "buckets = [bucket['Name'] for bucket in response['Buckets']]\n",
    "print(\"Current Bucket List:\")\n",
    "print(json.dumps(buckets, indent=2))\n",
    "print(\"---\")"
   ]
  },
  {
   "cell_type": "code",
   "execution_count": 10,
   "metadata": {
    "collapsed": true
   },
   "outputs": [],
   "source": [
    "''' Choose the desired bucket name as per your project's name on Watson Studio\n",
    "'''\n",
    "\n",
    "bucket_name='imageanddocumentclassification-donotdelete-pr-asgjxxebuspap7'"
   ]
  },
  {
   "cell_type": "code",
   "execution_count": 11,
   "metadata": {
    "collapsed": true
   },
   "outputs": [],
   "source": [
    "def put_file(filename, filecontents):\n",
    "    '''Write file to Cloud Object Storage'''\n",
    "    resp = cos.put_object(Bucket=bucket_name, Key=filename, Body=filecontents)\n",
    "    return resp\n",
    "\n",
    "def load_string(fileobject):\n",
    "    '''Load the file contents into a Python string'''\n",
    "    text = fileobject.read()\n",
    "    return text"
   ]
  },
  {
   "cell_type": "markdown",
   "metadata": {},
   "source": [
    "## 3. Convert\n",
    "This function extracts text from the desired input image and stores in the text file"
   ]
  },
  {
   "cell_type": "code",
   "execution_count": 14,
   "metadata": {
    "collapsed": true
   },
   "outputs": [],
   "source": [
    "def convert(filename, name):\n",
    "    img=Image.open(filename)\n",
    "    text1 = pytesseract.image_to_string(img)\n",
    "    file = open(name, \"w+\", encoding=\"utf-8\")\n",
    "    file.write(text1)\n",
    "    put_file( name, text1)"
   ]
  },
  {
   "cell_type": "code",
   "execution_count": 15,
   "metadata": {},
   "outputs": [],
   "source": [
    "i=6\n",
    "for f in req_paths:\n",
    "    name='form-doc-'+str(i)+'.txt'\n",
    "    convert(f,name)\n",
    "    i=i+1"
   ]
  },
  {
   "cell_type": "code",
   "execution_count": null,
   "metadata": {
    "collapsed": true
   },
   "outputs": [],
   "source": []
  }
 ],
 "metadata": {
  "kernelspec": {
   "display_name": "Python 3",
   "language": "python",
   "name": "python3"
  },
  "language_info": {
   "codemirror_mode": {
    "name": "ipython",
    "version": 3
   },
   "file_extension": ".py",
   "mimetype": "text/x-python",
   "name": "python",
   "nbconvert_exporter": "python",
   "pygments_lexer": "ipython3",
   "version": "3.6.3"
  }
 },
 "nbformat": 4,
 "nbformat_minor": 2
}
