{
 "cells": [
  {
   "cell_type": "markdown",
   "metadata": {},
   "source": [
    "# Image Classification of Documents"
   ]
  },
  {
   "cell_type": "markdown",
   "metadata": {},
   "source": [
    "## 1. Setup\n",
    "To prepare your environment, you need to install some packages and enter credentials for the Watson services."
   ]
  },
  {
   "cell_type": "markdown",
   "metadata": {},
   "source": [
    "### 1.1 Install the necessary packages\n",
    "You need the latest versions of these packages:\n",
    "python-swiftclient: is a python client for the Swift API."
   ]
  },
  {
   "cell_type": "markdown",
   "metadata": {},
   "source": [
    "### Install IBM Cloud Object Storage Client: "
   ]
  },
  {
   "cell_type": "code",
   "execution_count": 1,
   "metadata": {},
   "outputs": [
    {
     "name": "stdout",
     "output_type": "stream",
     "text": [
      "Requirement not upgraded as not directly required: ibm-cos-sdk in /opt/conda/envs/DSX-Python35/lib/python3.5/site-packages\n",
      "Requirement not upgraded as not directly required: ibm-cos-sdk-s3transfer==2.*,>=2.0.0 in /opt/conda/envs/DSX-Python35/lib/python3.5/site-packages (from ibm-cos-sdk)\n",
      "Requirement not upgraded as not directly required: ibm-cos-sdk-core==2.*,>=2.0.0 in /opt/conda/envs/DSX-Python35/lib/python3.5/site-packages (from ibm-cos-sdk)\n",
      "Requirement not upgraded as not directly required: python-dateutil<3.0.0,>=2.1 in /opt/conda/envs/DSX-Python35/lib/python3.5/site-packages (from ibm-cos-sdk-core==2.*,>=2.0.0->ibm-cos-sdk)\n",
      "Requirement not upgraded as not directly required: docutils>=0.10 in /opt/conda/envs/DSX-Python35/lib/python3.5/site-packages (from ibm-cos-sdk-core==2.*,>=2.0.0->ibm-cos-sdk)\n",
      "Requirement not upgraded as not directly required: jmespath<1.0.0,>=0.7.1 in /opt/conda/envs/DSX-Python35/lib/python3.5/site-packages (from ibm-cos-sdk-core==2.*,>=2.0.0->ibm-cos-sdk)\n",
      "Requirement not upgraded as not directly required: six>=1.5 in /opt/conda/envs/DSX-Python35/lib/python3.5/site-packages (from python-dateutil<3.0.0,>=2.1->ibm-cos-sdk-core==2.*,>=2.0.0->ibm-cos-sdk)\n"
     ]
    }
   ],
   "source": [
    "!pip install ibm-cos-sdk"
   ]
  },
  {
   "cell_type": "markdown",
   "metadata": {},
   "source": [
    "### Now restart the kernel by choosing Kernel > Restart."
   ]
  },
  {
   "cell_type": "markdown",
   "metadata": {},
   "source": [
    "### 1.2 Import packages and libraries\n",
    "Import the packages and libraries that you'll use:"
   ]
  },
  {
   "cell_type": "code",
   "execution_count": 2,
   "metadata": {},
   "outputs": [
    {
     "name": "stderr",
     "output_type": "stream",
     "text": [
      "Using TensorFlow backend.\n",
      "/opt/conda/envs/DSX-Python35/lib/python3.5/site-packages/sklearn/cross_validation.py:41: DeprecationWarning: This module was deprecated in version 0.18 in favor of the model_selection module into which all the refactored classes and functions are moved. Also note that the interface of the new CV iterators are different from that of this module. This module will be removed in 0.20.\n",
      "  \"This module will be removed in 0.20.\", DeprecationWarning)\n"
     ]
    }
   ],
   "source": [
    "import os, random\n",
    "import numpy as np\n",
    "import pandas as pd\n",
    "import PIL\n",
    "import keras\n",
    "import itertools\n",
    "from PIL import Image\n",
    "import ibm_boto3\n",
    "from botocore.client import Config\n",
    "\n",
    "\n",
    "from sklearn.utils import shuffle\n",
    "from sklearn.cross_validation import train_test_split\n",
    "from sklearn import preprocessing\n",
    "from skimage import feature, data, io, measure\n",
    "from sklearn.metrics import confusion_matrix\n",
    "\n",
    "import matplotlib.pyplot as plt\n",
    "from matplotlib import ticker\n",
    "import seaborn as sns\n",
    "%matplotlib inline \n",
    "\n",
    "from keras import backend as K\n",
    "from keras.models import Sequential\n",
    "from keras.layers import Input, Dropout, Flatten, Conv2D, MaxPooling2D, Dense, Activation\n",
    "from keras.optimizers import RMSprop\n",
    "from keras.callbacks import ModelCheckpoint, Callback, EarlyStopping\n",
    "from keras.optimizers import Adam\n",
    "from keras.utils import np_utils\n",
    "from keras.models import Sequential\n",
    "from keras.layers import Input, Dropout, Flatten, Conv2D, MaxPooling2D, Dense, Activation\n",
    "from keras.optimizers import RMSprop\n",
    "from keras.callbacks import ModelCheckpoint, Callback, EarlyStopping\n",
    "from keras.utils import np_utils\n",
    "from keras.preprocessing.image import ImageDataGenerator, array_to_img, img_to_array, load_img\n"
   ]
  },
  {
   "cell_type": "markdown",
   "metadata": {},
   "source": [
    "## 2. Configuration\n",
    "Add configurable items of the notebook below"
   ]
  },
  {
   "cell_type": "markdown",
   "metadata": {},
   "source": [
    "### 2.1 Add your service credentials for Object Storage\n",
    "You must create Object Storage service on IBM Cloud. To access data in a file in Object Storage, you need the Object Storage authentication credentials. Insert the Object Storage Streaming Body credentials and ensure the variable is referred as  streaming_body_1 in the following cell after removing the current contents in the cell."
   ]
  },
  {
   "cell_type": "code",
   "execution_count": 3,
   "metadata": {},
   "outputs": [],
   "source": [
    "\n",
    "import sys\n",
    "import types\n",
    "import pandas as pd\n",
    "from botocore.client import Config\n",
    "import ibm_boto3\n",
    "\n",
    "def __iter__(self): return 0\n",
    "\n",
    "# @hidden_cell\n",
    "# The following code accesses a file in your IBM Cloud Object Storage. It includes your credentials.\n",
    "# You might want to remove those credentials before you share your notebook.\n",
    "client_6320bca5848940229cbd3b964d36bb3e = ibm_boto3.client(service_name='s3',\n",
    "    ibm_api_key_id='54gCzvBIVoqsU7ChZzFrNF_rYb6Y8e0n3n4NLCqX5fr_',\n",
    "    ibm_auth_endpoint=\"https://iam.ng.bluemix.net/oidc/token\",\n",
    "    config=Config(signature_version='oauth'),\n",
    "    endpoint_url='https://s3-api.us-geo.objectstorage.service.networklayer.com')\n",
    "\n",
    "# Your data file was loaded into a botocore.response.StreamingBody object.\n",
    "# Please read the documentation of ibm_boto3 and pandas to learn more about your possibilities to load the data.\n",
    "# ibm_boto3 documentation: https://ibm.github.io/ibm-cos-sdk-python/\n",
    "# pandas documentation: http://pandas.pydata.org/\n",
    "streaming_body_1 = client_6320bca5848940229cbd3b964d36bb3e.get_object(Bucket='smruthic94609ce4ae94509bc95665597fb0968', Key='Data_Upload.zip')['Body']\n",
    "# add missing __iter__ method, so pandas accepts body as file-like object\n",
    "if not hasattr(streaming_body_1, \"__iter__\"): streaming_body_1.__iter__ = types.MethodType( __iter__, streaming_body_1 ) \n",
    "\n"
   ]
  },
  {
   "cell_type": "markdown",
   "metadata": {},
   "source": [
    "### 2.2 Global Variables \n",
    "Enter the batch size for training, testing and validation dataset"
   ]
  },
  {
   "cell_type": "code",
   "execution_count": 4,
   "metadata": {},
   "outputs": [],
   "source": [
    "batch_size_train = 20\n",
    "batch_size_val = 10\n",
    "batch_size_test = 25"
   ]
  },
  {
   "cell_type": "markdown",
   "metadata": {},
   "source": [
    "# 3. Storage\n",
    "\n",
    "## 3.1 Extract the Dataset \n",
    "\n",
    "Input the zip file from object storage and extract the data onto the /home/dsxuser/work folder"
   ]
  },
  {
   "cell_type": "code",
   "execution_count": 5,
   "metadata": {},
   "outputs": [
    {
     "name": "stdout",
     "output_type": "stream",
     "text": [
      "/home/dsxuser/work/Data_Upload\n",
      "/home/dsxuser/work/Data_Upload/test\n",
      "/home/dsxuser/work/Data_Upload/test/Cheque\n",
      "/home/dsxuser/work/Data_Upload/test/Cheque/cheque_4.jpg\n",
      "/home/dsxuser/work/Data_Upload/test/Cheque/cheque_5.jpg\n",
      "/home/dsxuser/work/Data_Upload/test/Cheque/cheque_6.jpg\n",
      "/home/dsxuser/work/Data_Upload/test/Cheque/cheque_7.jpg\n",
      "/home/dsxuser/work/Data_Upload/test/Cheque/cheque_8.jpg\n",
      "/home/dsxuser/work/Data_Upload/test/Driving_License\n",
      "/home/dsxuser/work/Data_Upload/test/Driving_License/drivinglicense_26.jpg\n",
      "/home/dsxuser/work/Data_Upload/test/Driving_License/drivinglicense_27.jpg\n",
      "/home/dsxuser/work/Data_Upload/test/Driving_License/drivinglicense_28.jpg\n",
      "/home/dsxuser/work/Data_Upload/test/Driving_License/drivinglicense_29.jpg\n",
      "/home/dsxuser/work/Data_Upload/test/Driving_License/drivinglicense_30.jpg\n",
      "/home/dsxuser/work/Data_Upload/test/None\n",
      "/home/dsxuser/work/Data_Upload/test/None/none_15.jpg\n",
      "/home/dsxuser/work/Data_Upload/test/None/none_16.jpg\n",
      "/home/dsxuser/work/Data_Upload/test/None/none_17.jpg\n",
      "/home/dsxuser/work/Data_Upload/test/None/none_18.jpg\n",
      "/home/dsxuser/work/Data_Upload/test/None/none_19.jpg\n",
      "/home/dsxuser/work/Data_Upload/test/Pancard\n",
      "/home/dsxuser/work/Data_Upload/test/Pancard/pancard_16.jpg\n",
      "/home/dsxuser/work/Data_Upload/test/Pancard/pancard_17.jpg\n",
      "/home/dsxuser/work/Data_Upload/test/Pancard/pancard_18.jpg\n",
      "/home/dsxuser/work/Data_Upload/test/Pancard/pancard_19.jpg\n",
      "/home/dsxuser/work/Data_Upload/test/Pancard/pancard_20.jpg\n",
      "/home/dsxuser/work/Data_Upload/test/Passport\n",
      "/home/dsxuser/work/Data_Upload/test/Passport/passport_27.jpg\n",
      "/home/dsxuser/work/Data_Upload/test/Passport/passport_28.jpg\n",
      "/home/dsxuser/work/Data_Upload/test/Passport/passport_29.jpg\n",
      "/home/dsxuser/work/Data_Upload/test/Passport/passport_30.jpg\n",
      "/home/dsxuser/work/Data_Upload/test/Passport/passport_31.jpg\n",
      "/home/dsxuser/work/Data_Upload/Trial_train\n",
      "/home/dsxuser/work/Data_Upload/Trial_train/Cheque\n",
      "/home/dsxuser/work/Data_Upload/Trial_train/Cheque/cheque_0.jpg\n",
      "/home/dsxuser/work/Data_Upload/Trial_train/Cheque/cheque_1.jpg\n",
      "/home/dsxuser/work/Data_Upload/Trial_train/Cheque/cheque_10.jpg\n",
      "/home/dsxuser/work/Data_Upload/Trial_train/Cheque/cheque_11.jpg\n",
      "/home/dsxuser/work/Data_Upload/Trial_train/Cheque/cheque_12.jpg\n",
      "/home/dsxuser/work/Data_Upload/Trial_train/Cheque/cheque_13.jpg\n",
      "/home/dsxuser/work/Data_Upload/Trial_train/Cheque/cheque_14.jpg\n",
      "/home/dsxuser/work/Data_Upload/Trial_train/Cheque/cheque_15.jpg\n",
      "/home/dsxuser/work/Data_Upload/Trial_train/Cheque/cheque_16.jpg\n",
      "/home/dsxuser/work/Data_Upload/Trial_train/Cheque/cheque_17.jpg\n",
      "/home/dsxuser/work/Data_Upload/Trial_train/Cheque/cheque_18.jpg\n",
      "/home/dsxuser/work/Data_Upload/Trial_train/Cheque/cheque_19.jpg\n",
      "/home/dsxuser/work/Data_Upload/Trial_train/Cheque/cheque_2.jpg\n",
      "/home/dsxuser/work/Data_Upload/Trial_train/Cheque/cheque_20.jpg\n",
      "/home/dsxuser/work/Data_Upload/Trial_train/Cheque/cheque_21.jpg\n",
      "/home/dsxuser/work/Data_Upload/Trial_train/Cheque/cheque_22.jpg\n",
      "/home/dsxuser/work/Data_Upload/Trial_train/Cheque/cheque_23.jpg\n",
      "/home/dsxuser/work/Data_Upload/Trial_train/Cheque/cheque_24.jpg\n",
      "/home/dsxuser/work/Data_Upload/Trial_train/Cheque/cheque_3.jpg\n",
      "/home/dsxuser/work/Data_Upload/Trial_train/Cheque/cheque_35.jpg\n",
      "/home/dsxuser/work/Data_Upload/Trial_train/Cheque/cheque_36.jpg\n",
      "/home/dsxuser/work/Data_Upload/Trial_train/Cheque/cheque_37.jpg\n",
      "/home/dsxuser/work/Data_Upload/Trial_train/Cheque/cheque_38.jpg\n",
      "/home/dsxuser/work/Data_Upload/Trial_train/Cheque/cheque_39.jpg\n",
      "/home/dsxuser/work/Data_Upload/Trial_train/Cheque/cheque_40.jpg\n",
      "/home/dsxuser/work/Data_Upload/Trial_train/Cheque/cheque_41.jpg\n",
      "/home/dsxuser/work/Data_Upload/Trial_train/Cheque/cheque_42.jpeg\n",
      "/home/dsxuser/work/Data_Upload/Trial_train/Cheque/cheque_43.jpg\n",
      "/home/dsxuser/work/Data_Upload/Trial_train/Cheque/cheque_44.jpg\n",
      "/home/dsxuser/work/Data_Upload/Trial_train/Cheque/cheque_45.jpg\n",
      "/home/dsxuser/work/Data_Upload/Trial_train/Cheque/cheque_46.jpeg\n",
      "/home/dsxuser/work/Data_Upload/Trial_train/Cheque/cheque_46.sb-8f496584-gKlhk2\n",
      "/home/dsxuser/work/Data_Upload/Trial_train/Cheque/cheque_47.jpeg\n",
      "/home/dsxuser/work/Data_Upload/Trial_train/Cheque/cheque_47.sb-8f496584-2c6gWh\n",
      "/home/dsxuser/work/Data_Upload/Trial_train/Cheque/cheque_48.jpeg\n",
      "/home/dsxuser/work/Data_Upload/Trial_train/Cheque/cheque_48.sb-8f496584-apjFpx\n",
      "/home/dsxuser/work/Data_Upload/Trial_train/Cheque/cheque_49.jpeg\n",
      "/home/dsxuser/work/Data_Upload/Trial_train/Cheque/cheque_49.sb-8f496584-oI12ma\n",
      "/home/dsxuser/work/Data_Upload/Trial_train/Cheque/cheque_50.jpeg\n",
      "/home/dsxuser/work/Data_Upload/Trial_train/Cheque/cheque_9.jpg\n",
      "/home/dsxuser/work/Data_Upload/Trial_train/Driving_License\n",
      "/home/dsxuser/work/Data_Upload/Trial_train/Driving_License/drivinglicense_0.jpg\n",
      "/home/dsxuser/work/Data_Upload/Trial_train/Driving_License/drivinglicense_1.jpg\n",
      "/home/dsxuser/work/Data_Upload/Trial_train/Driving_License/drivinglicense_10.jpg\n",
      "/home/dsxuser/work/Data_Upload/Trial_train/Driving_License/drivinglicense_11.jpg\n",
      "/home/dsxuser/work/Data_Upload/Trial_train/Driving_License/drivinglicense_12.jpg\n",
      "/home/dsxuser/work/Data_Upload/Trial_train/Driving_License/drivinglicense_13.jpg\n",
      "/home/dsxuser/work/Data_Upload/Trial_train/Driving_License/drivinglicense_14.jpg\n",
      "/home/dsxuser/work/Data_Upload/Trial_train/Driving_License/drivinglicense_15.jpg\n",
      "/home/dsxuser/work/Data_Upload/Trial_train/Driving_License/drivinglicense_16.jpg\n",
      "/home/dsxuser/work/Data_Upload/Trial_train/Driving_License/drivinglicense_17.jpeg\n",
      "/home/dsxuser/work/Data_Upload/Trial_train/Driving_License/drivinglicense_18.jpg\n",
      "/home/dsxuser/work/Data_Upload/Trial_train/Driving_License/drivinglicense_19.jpg\n",
      "/home/dsxuser/work/Data_Upload/Trial_train/Driving_License/drivinglicense_2.jpg\n",
      "/home/dsxuser/work/Data_Upload/Trial_train/Driving_License/drivinglicense_3.jpg\n",
      "/home/dsxuser/work/Data_Upload/Trial_train/Driving_License/drivinglicense_35.jpg\n",
      "/home/dsxuser/work/Data_Upload/Trial_train/Driving_License/drivinglicense_36.jpg\n",
      "/home/dsxuser/work/Data_Upload/Trial_train/Driving_License/drivinglicense_37.jpg\n",
      "/home/dsxuser/work/Data_Upload/Trial_train/Driving_License/drivinglicense_38.jpg\n",
      "/home/dsxuser/work/Data_Upload/Trial_train/Driving_License/drivinglicense_39.jpg\n",
      "/home/dsxuser/work/Data_Upload/Trial_train/Driving_License/drivinglicense_4.jpg\n",
      "/home/dsxuser/work/Data_Upload/Trial_train/Driving_License/drivinglicense_40.jpg\n",
      "/home/dsxuser/work/Data_Upload/Trial_train/Driving_License/drivinglicense_41.jpg\n",
      "/home/dsxuser/work/Data_Upload/Trial_train/Driving_License/drivinglicense_42.jpg\n",
      "/home/dsxuser/work/Data_Upload/Trial_train/Driving_License/drivinglicense_43.jpg\n",
      "/home/dsxuser/work/Data_Upload/Trial_train/Driving_License/drivinglicense_44.jpeg\n",
      "/home/dsxuser/work/Data_Upload/Trial_train/Driving_License/drivinglicense_44.sb-8f496584-NcfIfX\n",
      "/home/dsxuser/work/Data_Upload/Trial_train/Driving_License/drivinglicense_45.jpeg\n",
      "/home/dsxuser/work/Data_Upload/Trial_train/Driving_License/drivinglicense_45.sb-8f496584-9bYWTb\n",
      "/home/dsxuser/work/Data_Upload/Trial_train/Driving_License/drivinglicense_46.jpeg\n",
      "/home/dsxuser/work/Data_Upload/Trial_train/Driving_License/drivinglicense_46.sb-8f496584-SBu6bM\n",
      "/home/dsxuser/work/Data_Upload/Trial_train/Driving_License/drivinglicense_47.jpeg\n",
      "/home/dsxuser/work/Data_Upload/Trial_train/Driving_License/drivinglicense_47.sb-8f496584-hg7KLO\n",
      "/home/dsxuser/work/Data_Upload/Trial_train/Driving_License/drivinglicense_48.jpeg\n",
      "/home/dsxuser/work/Data_Upload/Trial_train/Driving_License/drivinglicense_48.sb-8f496584-rh1c1g\n",
      "/home/dsxuser/work/Data_Upload/Trial_train/Driving_License/drivinglicense_49.jpeg\n",
      "/home/dsxuser/work/Data_Upload/Trial_train/Driving_License/drivinglicense_5.jpg\n",
      "/home/dsxuser/work/Data_Upload/Trial_train/Driving_License/drivinglicense_6.jpg\n",
      "/home/dsxuser/work/Data_Upload/Trial_train/Driving_License/drivinglicense_7.jpg\n",
      "/home/dsxuser/work/Data_Upload/Trial_train/Driving_License/drivinglicense_8.jpg\n",
      "/home/dsxuser/work/Data_Upload/Trial_train/Driving_License/drivinglicense_9.jpg\n",
      "/home/dsxuser/work/Data_Upload/Trial_train/None\n",
      "/home/dsxuser/work/Data_Upload/Trial_train/None/none_0.jpg\n",
      "/home/dsxuser/work/Data_Upload/Trial_train/None/none_1.jpg\n",
      "/home/dsxuser/work/Data_Upload/Trial_train/None/none_10.jpg\n",
      "/home/dsxuser/work/Data_Upload/Trial_train/None/none_11.jpg\n",
      "/home/dsxuser/work/Data_Upload/Trial_train/None/none_12.jpg\n",
      "/home/dsxuser/work/Data_Upload/Trial_train/None/none_13.jpg\n",
      "/home/dsxuser/work/Data_Upload/Trial_train/None/none_14.jpg\n",
      "/home/dsxuser/work/Data_Upload/Trial_train/None/none_2.jpg\n",
      "/home/dsxuser/work/Data_Upload/Trial_train/None/none_20.jpg\n",
      "/home/dsxuser/work/Data_Upload/Trial_train/None/none_21.jpg\n",
      "/home/dsxuser/work/Data_Upload/Trial_train/None/none_22.jpg\n",
      "/home/dsxuser/work/Data_Upload/Trial_train/None/none_23.jpg\n",
      "/home/dsxuser/work/Data_Upload/Trial_train/None/none_24.jpeg\n",
      "/home/dsxuser/work/Data_Upload/Trial_train/None/none_3.jpg\n",
      "/home/dsxuser/work/Data_Upload/Trial_train/None/none_36.jpg\n",
      "/home/dsxuser/work/Data_Upload/Trial_train/None/none_37.jpg\n",
      "/home/dsxuser/work/Data_Upload/Trial_train/None/none_38.jpg\n",
      "/home/dsxuser/work/Data_Upload/Trial_train/None/none_39.jpg\n",
      "/home/dsxuser/work/Data_Upload/Trial_train/None/none_4.jpg\n",
      "/home/dsxuser/work/Data_Upload/Trial_train/None/none_40.jpg\n",
      "/home/dsxuser/work/Data_Upload/Trial_train/None/none_41.jpg\n",
      "/home/dsxuser/work/Data_Upload/Trial_train/None/none_42.jpg\n",
      "/home/dsxuser/work/Data_Upload/Trial_train/None/none_43.jpg\n",
      "/home/dsxuser/work/Data_Upload/Trial_train/None/none_44.jpg\n",
      "/home/dsxuser/work/Data_Upload/Trial_train/None/none_45.jpg\n",
      "/home/dsxuser/work/Data_Upload/Trial_train/None/none_46.jpg\n",
      "/home/dsxuser/work/Data_Upload/Trial_train/None/none_47.jpg\n",
      "/home/dsxuser/work/Data_Upload/Trial_train/None/none_48.jpg\n",
      "/home/dsxuser/work/Data_Upload/Trial_train/None/none_49.jpg\n",
      "/home/dsxuser/work/Data_Upload/Trial_train/None/none_5.jpg\n",
      "/home/dsxuser/work/Data_Upload/Trial_train/None/none_50.jpg\n",
      "/home/dsxuser/work/Data_Upload/Trial_train/None/none_51.jpg\n",
      "/home/dsxuser/work/Data_Upload/Trial_train/None/none_52.jpg\n",
      "/home/dsxuser/work/Data_Upload/Trial_train/None/none_53.jpg\n",
      "/home/dsxuser/work/Data_Upload/Trial_train/None/none_54.jpg\n",
      "/home/dsxuser/work/Data_Upload/Trial_train/None/none_55.jpg\n",
      "/home/dsxuser/work/Data_Upload/Trial_train/None/none_6.jpg\n",
      "/home/dsxuser/work/Data_Upload/Trial_train/None/none_7.jpg\n",
      "/home/dsxuser/work/Data_Upload/Trial_train/None/none_8.jpg\n",
      "/home/dsxuser/work/Data_Upload/Trial_train/None/none_9.jpg\n",
      "/home/dsxuser/work/Data_Upload/Trial_train/Pancard\n",
      "/home/dsxuser/work/Data_Upload/Trial_train/Pancard/pancard_0.jpg\n",
      "/home/dsxuser/work/Data_Upload/Trial_train/Pancard/pancard_1.jpg\n",
      "/home/dsxuser/work/Data_Upload/Trial_train/Pancard/pancard_10.jpg\n",
      "/home/dsxuser/work/Data_Upload/Trial_train/Pancard/pancard_11.jpg\n",
      "/home/dsxuser/work/Data_Upload/Trial_train/Pancard/pancard_12.jpg\n",
      "/home/dsxuser/work/Data_Upload/Trial_train/Pancard/pancard_13.jpg\n",
      "/home/dsxuser/work/Data_Upload/Trial_train/Pancard/pancard_14.jpg\n",
      "/home/dsxuser/work/Data_Upload/Trial_train/Pancard/pancard_15.jpg\n",
      "/home/dsxuser/work/Data_Upload/Trial_train/Pancard/pancard_2.jpg\n",
      "/home/dsxuser/work/Data_Upload/Trial_train/Pancard/pancard_21.jpg\n",
      "/home/dsxuser/work/Data_Upload/Trial_train/Pancard/pancard_22.jpg\n",
      "/home/dsxuser/work/Data_Upload/Trial_train/Pancard/pancard_23.jpg\n",
      "/home/dsxuser/work/Data_Upload/Trial_train/Pancard/pancard_24.jpg\n",
      "/home/dsxuser/work/Data_Upload/Trial_train/Pancard/pancard_3.jpg\n",
      "/home/dsxuser/work/Data_Upload/Trial_train/Pancard/pancard_35.jpg\n",
      "/home/dsxuser/work/Data_Upload/Trial_train/Pancard/pancard_36.jpg\n",
      "/home/dsxuser/work/Data_Upload/Trial_train/Pancard/pancard_37.jpg\n",
      "/home/dsxuser/work/Data_Upload/Trial_train/Pancard/pancard_38.jpg\n",
      "/home/dsxuser/work/Data_Upload/Trial_train/Pancard/pancard_39.jpg\n",
      "/home/dsxuser/work/Data_Upload/Trial_train/Pancard/pancard_4.jpg\n",
      "/home/dsxuser/work/Data_Upload/Trial_train/Pancard/pancard_40.jpg\n",
      "/home/dsxuser/work/Data_Upload/Trial_train/Pancard/pancard_41.jpg\n",
      "/home/dsxuser/work/Data_Upload/Trial_train/Pancard/pancard_42.jpg\n",
      "/home/dsxuser/work/Data_Upload/Trial_train/Pancard/pancard_43.jpg\n",
      "/home/dsxuser/work/Data_Upload/Trial_train/Pancard/pancard_44.jpg\n",
      "/home/dsxuser/work/Data_Upload/Trial_train/Pancard/pancard_45.jpg\n",
      "/home/dsxuser/work/Data_Upload/Trial_train/Pancard/pancard_46.jpg\n",
      "/home/dsxuser/work/Data_Upload/Trial_train/Pancard/pancard_47.jpg\n",
      "/home/dsxuser/work/Data_Upload/Trial_train/Pancard/pancard_48.jpg\n",
      "/home/dsxuser/work/Data_Upload/Trial_train/Pancard/pancard_49.jpg\n",
      "/home/dsxuser/work/Data_Upload/Trial_train/Pancard/pancard_5.jpg\n",
      "/home/dsxuser/work/Data_Upload/Trial_train/Pancard/pancard_50.jpg\n",
      "/home/dsxuser/work/Data_Upload/Trial_train/Pancard/pancard_51.jpeg\n",
      "/home/dsxuser/work/Data_Upload/Trial_train/Pancard/pancard_51.sb-8f496584-dR06FP\n",
      "/home/dsxuser/work/Data_Upload/Trial_train/Pancard/pancard_52.jpeg\n",
      "/home/dsxuser/work/Data_Upload/Trial_train/Pancard/pancard_52.sb-8f496584-LrdesK\n",
      "/home/dsxuser/work/Data_Upload/Trial_train/Pancard/pancard_6.jpg\n",
      "/home/dsxuser/work/Data_Upload/Trial_train/Pancard/pancard_7.jpg\n",
      "/home/dsxuser/work/Data_Upload/Trial_train/Pancard/pancard_8.jpg\n",
      "/home/dsxuser/work/Data_Upload/Trial_train/Pancard/pancard_9.jpg\n",
      "/home/dsxuser/work/Data_Upload/Trial_train/Passport\n",
      "/home/dsxuser/work/Data_Upload/Trial_train/Passport/passport_0.jpg\n",
      "/home/dsxuser/work/Data_Upload/Trial_train/Passport/passport_1.jpg\n",
      "/home/dsxuser/work/Data_Upload/Trial_train/Passport/passport_10.jpg\n",
      "/home/dsxuser/work/Data_Upload/Trial_train/Passport/passport_11.jpg\n",
      "/home/dsxuser/work/Data_Upload/Trial_train/Passport/passport_12.jpg\n",
      "/home/dsxuser/work/Data_Upload/Trial_train/Passport/passport_13.jpg\n",
      "/home/dsxuser/work/Data_Upload/Trial_train/Passport/passport_14.jpg\n",
      "/home/dsxuser/work/Data_Upload/Trial_train/Passport/passport_15.jpg\n",
      "/home/dsxuser/work/Data_Upload/Trial_train/Passport/passport_16.jpg\n",
      "/home/dsxuser/work/Data_Upload/Trial_train/Passport/passport_17.jpg\n",
      "/home/dsxuser/work/Data_Upload/Trial_train/Passport/passport_18.jpg\n",
      "/home/dsxuser/work/Data_Upload/Trial_train/Passport/passport_19.jpg\n",
      "/home/dsxuser/work/Data_Upload/Trial_train/Passport/passport_2.jpg\n",
      "/home/dsxuser/work/Data_Upload/Trial_train/Passport/passport_3.jpg\n",
      "/home/dsxuser/work/Data_Upload/Trial_train/Passport/passport_35.jpg\n",
      "/home/dsxuser/work/Data_Upload/Trial_train/Passport/passport_36.jpg\n",
      "/home/dsxuser/work/Data_Upload/Trial_train/Passport/passport_37.jpg\n",
      "/home/dsxuser/work/Data_Upload/Trial_train/Passport/passport_38.jpg\n",
      "/home/dsxuser/work/Data_Upload/Trial_train/Passport/passport_4.jpg\n",
      "/home/dsxuser/work/Data_Upload/Trial_train/Passport/passport_40.jpg\n",
      "/home/dsxuser/work/Data_Upload/Trial_train/Passport/passport_41.jpg\n",
      "/home/dsxuser/work/Data_Upload/Trial_train/Passport/passport_42.jpg\n",
      "/home/dsxuser/work/Data_Upload/Trial_train/Passport/passport_43.jpeg\n",
      "/home/dsxuser/work/Data_Upload/Trial_train/Passport/passport_43.sb-8f496584-6I72JJ\n",
      "/home/dsxuser/work/Data_Upload/Trial_train/Passport/passport_44.jpeg\n",
      "/home/dsxuser/work/Data_Upload/Trial_train/Passport/passport_44.sb-8f496584-fVaNJD\n",
      "/home/dsxuser/work/Data_Upload/Trial_train/Passport/passport_45.jpeg\n",
      "/home/dsxuser/work/Data_Upload/Trial_train/Passport/passport_45.sb-8f496584-qcsl3U\n",
      "/home/dsxuser/work/Data_Upload/Trial_train/Passport/passport_46.jpeg\n",
      "/home/dsxuser/work/Data_Upload/Trial_train/Passport/passport_46.sb-8f496584-P2DuNb\n",
      "/home/dsxuser/work/Data_Upload/Trial_train/Passport/passport_47.jpeg\n",
      "/home/dsxuser/work/Data_Upload/Trial_train/Passport/passport_47.sb-8f496584-8bnauL\n",
      "/home/dsxuser/work/Data_Upload/Trial_train/Passport/passport_48.jpeg\n",
      "/home/dsxuser/work/Data_Upload/Trial_train/Passport/passport_48.sb-8f496584-BZseQT\n",
      "/home/dsxuser/work/Data_Upload/Trial_train/Passport/passport_49.jpeg\n",
      "/home/dsxuser/work/Data_Upload/Trial_train/Passport/passport_49.sb-8f496584-wpfeSK\n",
      "/home/dsxuser/work/Data_Upload/Trial_train/Passport/passport_5.jpg\n",
      "/home/dsxuser/work/Data_Upload/Trial_train/Passport/passport_50.jpeg\n",
      "/home/dsxuser/work/Data_Upload/Trial_train/Passport/passport_50.sb-8f496584-n8Rt1F\n",
      "/home/dsxuser/work/Data_Upload/Trial_train/Passport/passport_51\n",
      "/home/dsxuser/work/Data_Upload/Trial_train/Passport/passport_52.jpeg\n",
      "/home/dsxuser/work/Data_Upload/Trial_train/Passport/passport_52.sb-8f496584-f9hLgF\n",
      "/home/dsxuser/work/Data_Upload/Trial_train/Passport/passport_53.jpeg\n",
      "/home/dsxuser/work/Data_Upload/Trial_train/Passport/passport_53.sb-8f496584-o99HMX\n",
      "/home/dsxuser/work/Data_Upload/Trial_train/Passport/passport_54.jpeg\n",
      "/home/dsxuser/work/Data_Upload/Trial_train/Passport/passport_54.sb-8f496584-EhkICi\n",
      "/home/dsxuser/work/Data_Upload/Trial_train/Passport/passport_55\n",
      "/home/dsxuser/work/Data_Upload/Trial_train/Passport/passport_56.jpeg\n",
      "/home/dsxuser/work/Data_Upload/Trial_train/Passport/passport_56.sb-8f496584-VtSEDi\n",
      "/home/dsxuser/work/Data_Upload/Trial_train/Passport/passport_57\n",
      "/home/dsxuser/work/Data_Upload/Trial_train/Passport/passport_58.jpeg\n",
      "/home/dsxuser/work/Data_Upload/Trial_train/Passport/passport_58.sb-8f496584-fTgNiS\n",
      "/home/dsxuser/work/Data_Upload/Trial_train/Passport/passport_59.jpeg\n",
      "/home/dsxuser/work/Data_Upload/Trial_train/Passport/passport_59.sb-8f496584-cmE6Xf\n",
      "/home/dsxuser/work/Data_Upload/Trial_train/Passport/passport_6.jpg\n",
      "/home/dsxuser/work/Data_Upload/Trial_train/Passport/passport_60.jpeg\n",
      "/home/dsxuser/work/Data_Upload/Trial_train/Passport/passport_60.sb-8f496584-PsfiTH\n",
      "/home/dsxuser/work/Data_Upload/Trial_train/Passport/passport_7.jpg\n",
      "/home/dsxuser/work/Data_Upload/Trial_train/Passport/passport_8.jpg\n",
      "/home/dsxuser/work/Data_Upload/Trial_train/Passport/passport_9.jpg\n",
      "/home/dsxuser/work/Data_Upload/Trial_val\n",
      "/home/dsxuser/work/Data_Upload/Trial_val/Cheque\n",
      "/home/dsxuser/work/Data_Upload/Trial_val/Cheque/cheque_25.jpg\n",
      "/home/dsxuser/work/Data_Upload/Trial_val/Cheque/cheque_26.jpg\n",
      "/home/dsxuser/work/Data_Upload/Trial_val/Cheque/cheque_27.jpg\n",
      "/home/dsxuser/work/Data_Upload/Trial_val/Cheque/cheque_28.jpg\n",
      "/home/dsxuser/work/Data_Upload/Trial_val/Cheque/cheque_29.jpg\n",
      "/home/dsxuser/work/Data_Upload/Trial_val/Cheque/cheque_30.jpg\n",
      "/home/dsxuser/work/Data_Upload/Trial_val/Cheque/cheque_31.jpg\n",
      "/home/dsxuser/work/Data_Upload/Trial_val/Cheque/cheque_32.jpg\n",
      "/home/dsxuser/work/Data_Upload/Trial_val/Cheque/cheque_33.jpg\n",
      "/home/dsxuser/work/Data_Upload/Trial_val/Cheque/cheque_34.jpg\n",
      "/home/dsxuser/work/Data_Upload/Trial_val/Driving_License\n",
      "/home/dsxuser/work/Data_Upload/Trial_val/Driving_License/drivinglicense_20.jpg\n",
      "/home/dsxuser/work/Data_Upload/Trial_val/Driving_License/drivinglicense_21.jpg\n",
      "/home/dsxuser/work/Data_Upload/Trial_val/Driving_License/drivinglicense_22.jpg\n",
      "/home/dsxuser/work/Data_Upload/Trial_val/Driving_License/drivinglicense_23.jpg\n",
      "/home/dsxuser/work/Data_Upload/Trial_val/Driving_License/drivinglicense_24.jpg\n",
      "/home/dsxuser/work/Data_Upload/Trial_val/Driving_License/drivinglicense_25.jpg\n",
      "/home/dsxuser/work/Data_Upload/Trial_val/Driving_License/drivinglicense_31.jpg\n",
      "/home/dsxuser/work/Data_Upload/Trial_val/Driving_License/drivinglicense_32.jpg\n",
      "/home/dsxuser/work/Data_Upload/Trial_val/Driving_License/drivinglicense_33.jpg\n",
      "/home/dsxuser/work/Data_Upload/Trial_val/Driving_License/drivinglicense_34.jpeg\n",
      "/home/dsxuser/work/Data_Upload/Trial_val/None\n",
      "/home/dsxuser/work/Data_Upload/Trial_val/None/none_25.jpg\n",
      "/home/dsxuser/work/Data_Upload/Trial_val/None/none_26.jpeg\n",
      "/home/dsxuser/work/Data_Upload/Trial_val/None/none_27.jpg\n",
      "/home/dsxuser/work/Data_Upload/Trial_val/None/none_28.jpg\n",
      "/home/dsxuser/work/Data_Upload/Trial_val/None/none_29.jpg\n",
      "/home/dsxuser/work/Data_Upload/Trial_val/None/none_31.jpg\n",
      "/home/dsxuser/work/Data_Upload/Trial_val/None/none_32.jpg\n",
      "/home/dsxuser/work/Data_Upload/Trial_val/None/none_33.jpg\n",
      "/home/dsxuser/work/Data_Upload/Trial_val/None/none_34.jpg\n",
      "/home/dsxuser/work/Data_Upload/Trial_val/None/none_35.jpg\n",
      "/home/dsxuser/work/Data_Upload/Trial_val/Pancard\n",
      "/home/dsxuser/work/Data_Upload/Trial_val/Pancard/pancard_25.jpg\n",
      "/home/dsxuser/work/Data_Upload/Trial_val/Pancard/pancard_26.jpg\n",
      "/home/dsxuser/work/Data_Upload/Trial_val/Pancard/pancard_27.jpg\n",
      "/home/dsxuser/work/Data_Upload/Trial_val/Pancard/pancard_28.jpg\n",
      "/home/dsxuser/work/Data_Upload/Trial_val/Pancard/pancard_29.jpeg\n",
      "/home/dsxuser/work/Data_Upload/Trial_val/Pancard/pancard_30.jpg\n",
      "/home/dsxuser/work/Data_Upload/Trial_val/Pancard/pancard_31.jpg\n",
      "/home/dsxuser/work/Data_Upload/Trial_val/Pancard/pancard_32.jpg\n",
      "/home/dsxuser/work/Data_Upload/Trial_val/Pancard/pancard_33.jpg\n",
      "/home/dsxuser/work/Data_Upload/Trial_val/Pancard/pancard_34.jpg\n",
      "/home/dsxuser/work/Data_Upload/Trial_val/Passport\n",
      "/home/dsxuser/work/Data_Upload/Trial_val/Passport/passport_20.jpg\n",
      "/home/dsxuser/work/Data_Upload/Trial_val/Passport/passport_21.jpg\n",
      "/home/dsxuser/work/Data_Upload/Trial_val/Passport/passport_22.jpg\n",
      "/home/dsxuser/work/Data_Upload/Trial_val/Passport/passport_23.jpg\n",
      "/home/dsxuser/work/Data_Upload/Trial_val/Passport/passport_24.jpg\n",
      "/home/dsxuser/work/Data_Upload/Trial_val/Passport/passport_25.jpg\n",
      "/home/dsxuser/work/Data_Upload/Trial_val/Passport/passport_26.jpg\n",
      "/home/dsxuser/work/Data_Upload/Trial_val/Passport/passport_32.jpg\n",
      "/home/dsxuser/work/Data_Upload/Trial_val/Passport/passport_33.jpg\n",
      "/home/dsxuser/work/Data_Upload/Trial_val/Passport/passport_34.jpg\n"
     ]
    }
   ],
   "source": [
    "from io import BytesIO\n",
    "import zipfile\n",
    "\n",
    "zip_ref = zipfile.ZipFile(BytesIO(streaming_body_1.read()),'r')\n",
    "paths = zip_ref.namelist()\n",
    "for path in paths:\n",
    "    print(zip_ref.extract(path))\n",
    "zip_ref.close()"
   ]
  },
  {
   "cell_type": "markdown",
   "metadata": {},
   "source": [
    "# 4. Classification\n",
    "\n",
    "## 4.1 Create the Datset"
   ]
  },
  {
   "cell_type": "code",
   "execution_count": 6,
   "metadata": {},
   "outputs": [
    {
     "data": {
      "text/plain": [
       "<keras.preprocessing.image.ImageDataGenerator at 0x2b0b1857b390>"
      ]
     },
     "execution_count": 6,
     "metadata": {},
     "output_type": "execute_result"
    }
   ],
   "source": [
    "'''Converting Data Format according to the backend used by Keras\n",
    "'''\n",
    "keras.preprocessing.image.ImageDataGenerator(data_format=K.image_data_format())"
   ]
  },
  {
   "cell_type": "code",
   "execution_count": 7,
   "metadata": {},
   "outputs": [
    {
     "name": "stdout",
     "output_type": "stream",
     "text": [
      "Found 191 images belonging to 5 classes.\n"
     ]
    },
    {
     "data": {
      "text/plain": [
       "keras.preprocessing.image.DirectoryIterator"
      ]
     },
     "execution_count": 7,
     "metadata": {},
     "output_type": "execute_result"
    }
   ],
   "source": [
    "'''Input the Training Data\n",
    "'''\n",
    "train_path = '/home/dsxuser/work/Data_Upload/Trial_train/'\n",
    "train_batches = ImageDataGenerator().flow_from_directory(train_path, target_size=(224,224), classes=['Cheque', 'Driving_License','None','Pancard','Passport'], batch_size=batch_size_train)\n",
    "type(train_batches)"
   ]
  },
  {
   "cell_type": "code",
   "execution_count": 8,
   "metadata": {},
   "outputs": [
    {
     "name": "stdout",
     "output_type": "stream",
     "text": [
      "Found 50 images belonging to 5 classes.\n"
     ]
    }
   ],
   "source": [
    "'''Input the Validation Data\n",
    "'''\n",
    "\n",
    "val_path = '/home/dsxuser/work/Data_Upload/Trial_val/'\n",
    "val_batches = ImageDataGenerator().flow_from_directory(val_path, target_size=(224,224), classes=['Cheque', 'Driving_License','None','Pancard','Passport'], batch_size=batch_size_val)\n"
   ]
  },
  {
   "cell_type": "code",
   "execution_count": 9,
   "metadata": {},
   "outputs": [
    {
     "name": "stdout",
     "output_type": "stream",
     "text": [
      "Found 25 images belonging to 5 classes.\n"
     ]
    }
   ],
   "source": [
    "'''Input the Test Data\n",
    "'''\n",
    "test_path = '/home/dsxuser/work/Data_Upload/test/'\n",
    "test_batches = ImageDataGenerator().flow_from_directory(test_path, target_size=(224,224), classes=['Cheque', 'Driving_License','None','Pancard','Passport'], batch_size=batch_size_test)\n"
   ]
  },
  {
   "cell_type": "code",
   "execution_count": 10,
   "metadata": {},
   "outputs": [
    {
     "data": {
      "text/plain": [
       "array([[ 0.,  0.,  0.,  1.,  0.],\n",
       "       [ 1.,  0.,  0.,  0.,  0.],\n",
       "       [ 1.,  0.,  0.,  0.,  0.],\n",
       "       [ 0.,  0.,  0.,  0.,  1.],\n",
       "       [ 0.,  0.,  0.,  0.,  1.],\n",
       "       [ 0.,  1.,  0.,  0.,  0.],\n",
       "       [ 0.,  1.,  0.,  0.,  0.],\n",
       "       [ 0.,  0.,  0.,  1.,  0.],\n",
       "       [ 0.,  0.,  0.,  1.,  0.],\n",
       "       [ 0.,  1.,  0.,  0.,  0.],\n",
       "       [ 0.,  1.,  0.,  0.,  0.],\n",
       "       [ 1.,  0.,  0.,  0.,  0.],\n",
       "       [ 0.,  0.,  0.,  0.,  1.],\n",
       "       [ 0.,  0.,  0.,  0.,  1.],\n",
       "       [ 1.,  0.,  0.,  0.,  0.],\n",
       "       [ 1.,  0.,  0.,  0.,  0.],\n",
       "       [ 0.,  0.,  0.,  1.,  0.],\n",
       "       [ 0.,  1.,  0.,  0.,  0.],\n",
       "       [ 0.,  0.,  1.,  0.,  0.],\n",
       "       [ 0.,  0.,  0.,  0.,  1.],\n",
       "       [ 0.,  0.,  1.,  0.,  0.],\n",
       "       [ 0.,  0.,  0.,  1.,  0.],\n",
       "       [ 0.,  0.,  1.,  0.,  0.],\n",
       "       [ 0.,  0.,  1.,  0.,  0.],\n",
       "       [ 0.,  0.,  1.,  0.,  0.]], dtype=float32)"
      ]
     },
     "execution_count": 10,
     "metadata": {},
     "output_type": "execute_result"
    }
   ],
   "source": [
    "test_imgs, test_labels = next(test_batches)\n",
    "test_labels"
   ]
  },
  {
   "cell_type": "code",
   "execution_count": 11,
   "metadata": {},
   "outputs": [
    {
     "data": {
      "text/plain": [
       "[3, 0, 0, 4, 4, 1, 1, 3, 3, 1, 1, 0, 4, 4, 0, 0, 3, 1, 2, 4, 2, 3, 2, 2, 2]"
      ]
     },
     "execution_count": 11,
     "metadata": {},
     "output_type": "execute_result"
    }
   ],
   "source": [
    "y_test= [ np.where(r==1)[0][0] for r in test_labels ]\n",
    "y_test"
   ]
  },
  {
   "cell_type": "markdown",
   "metadata": {},
   "source": [
    "## 4.2 Build the Model"
   ]
  },
  {
   "cell_type": "code",
   "execution_count": 12,
   "metadata": {},
   "outputs": [
    {
     "name": "stdout",
     "output_type": "stream",
     "text": [
      "_________________________________________________________________\n",
      "Layer (type)                 Output Shape              Param #   \n",
      "=================================================================\n",
      "input_1 (InputLayer)         (None, 224, 224, 3)       0         \n",
      "_________________________________________________________________\n",
      "block1_conv1 (Conv2D)        (None, 224, 224, 64)      1792      \n",
      "_________________________________________________________________\n",
      "block1_conv2 (Conv2D)        (None, 224, 224, 64)      36928     \n",
      "_________________________________________________________________\n",
      "block1_pool (MaxPooling2D)   (None, 112, 112, 64)      0         \n",
      "_________________________________________________________________\n",
      "block2_conv1 (Conv2D)        (None, 112, 112, 128)     73856     \n",
      "_________________________________________________________________\n",
      "block2_conv2 (Conv2D)        (None, 112, 112, 128)     147584    \n",
      "_________________________________________________________________\n",
      "block2_pool (MaxPooling2D)   (None, 56, 56, 128)       0         \n",
      "_________________________________________________________________\n",
      "block3_conv1 (Conv2D)        (None, 56, 56, 256)       295168    \n",
      "_________________________________________________________________\n",
      "block3_conv2 (Conv2D)        (None, 56, 56, 256)       590080    \n",
      "_________________________________________________________________\n",
      "block3_conv3 (Conv2D)        (None, 56, 56, 256)       590080    \n",
      "_________________________________________________________________\n",
      "block3_pool (MaxPooling2D)   (None, 28, 28, 256)       0         \n",
      "_________________________________________________________________\n",
      "block4_conv1 (Conv2D)        (None, 28, 28, 512)       1180160   \n",
      "_________________________________________________________________\n",
      "block4_conv2 (Conv2D)        (None, 28, 28, 512)       2359808   \n",
      "_________________________________________________________________\n",
      "block4_conv3 (Conv2D)        (None, 28, 28, 512)       2359808   \n",
      "_________________________________________________________________\n",
      "block4_pool (MaxPooling2D)   (None, 14, 14, 512)       0         \n",
      "_________________________________________________________________\n",
      "block5_conv1 (Conv2D)        (None, 14, 14, 512)       2359808   \n",
      "_________________________________________________________________\n",
      "block5_conv2 (Conv2D)        (None, 14, 14, 512)       2359808   \n",
      "_________________________________________________________________\n",
      "block5_conv3 (Conv2D)        (None, 14, 14, 512)       2359808   \n",
      "_________________________________________________________________\n",
      "block5_pool (MaxPooling2D)   (None, 7, 7, 512)         0         \n",
      "_________________________________________________________________\n",
      "flatten (Flatten)            (None, 25088)             0         \n",
      "_________________________________________________________________\n",
      "fc1 (Dense)                  (None, 4096)              102764544 \n",
      "_________________________________________________________________\n",
      "fc2 (Dense)                  (None, 4096)              16781312  \n",
      "_________________________________________________________________\n",
      "predictions (Dense)          (None, 1000)              4097000   \n",
      "=================================================================\n",
      "Total params: 138,357,544\n",
      "Trainable params: 138,357,544\n",
      "Non-trainable params: 0\n",
      "_________________________________________________________________\n"
     ]
    }
   ],
   "source": [
    "vgg16_model = keras.applications.vgg16.VGG16()\n",
    "vgg16_model.summary() # The output layer gives 1000, this model has 1000 classes"
   ]
  },
  {
   "cell_type": "code",
   "execution_count": 13,
   "metadata": {},
   "outputs": [],
   "source": [
    "type(vgg16_model) #This is a Keras Functional API need to convert to sequential\n",
    "model = Sequential() #Iterate over the functional layers and add it as a stack\n",
    "for layer in vgg16_model.layers:\n",
    "    model.add(layer)"
   ]
  },
  {
   "cell_type": "code",
   "execution_count": 14,
   "metadata": {},
   "outputs": [
    {
     "name": "stdout",
     "output_type": "stream",
     "text": [
      "_________________________________________________________________\n",
      "Layer (type)                 Output Shape              Param #   \n",
      "=================================================================\n",
      "input_1 (InputLayer)         (None, 224, 224, 3)       0         \n",
      "_________________________________________________________________\n",
      "block1_conv1 (Conv2D)        (None, 224, 224, 64)      1792      \n",
      "_________________________________________________________________\n",
      "block1_conv2 (Conv2D)        (None, 224, 224, 64)      36928     \n",
      "_________________________________________________________________\n",
      "block1_pool (MaxPooling2D)   (None, 112, 112, 64)      0         \n",
      "_________________________________________________________________\n",
      "block2_conv1 (Conv2D)        (None, 112, 112, 128)     73856     \n",
      "_________________________________________________________________\n",
      "block2_conv2 (Conv2D)        (None, 112, 112, 128)     147584    \n",
      "_________________________________________________________________\n",
      "block2_pool (MaxPooling2D)   (None, 56, 56, 128)       0         \n",
      "_________________________________________________________________\n",
      "block3_conv1 (Conv2D)        (None, 56, 56, 256)       295168    \n",
      "_________________________________________________________________\n",
      "block3_conv2 (Conv2D)        (None, 56, 56, 256)       590080    \n",
      "_________________________________________________________________\n",
      "block3_conv3 (Conv2D)        (None, 56, 56, 256)       590080    \n",
      "_________________________________________________________________\n",
      "block3_pool (MaxPooling2D)   (None, 28, 28, 256)       0         \n",
      "_________________________________________________________________\n",
      "block4_conv1 (Conv2D)        (None, 28, 28, 512)       1180160   \n",
      "_________________________________________________________________\n",
      "block4_conv2 (Conv2D)        (None, 28, 28, 512)       2359808   \n",
      "_________________________________________________________________\n",
      "block4_conv3 (Conv2D)        (None, 28, 28, 512)       2359808   \n",
      "_________________________________________________________________\n",
      "block4_pool (MaxPooling2D)   (None, 14, 14, 512)       0         \n",
      "_________________________________________________________________\n",
      "block5_conv1 (Conv2D)        (None, 14, 14, 512)       2359808   \n",
      "_________________________________________________________________\n",
      "block5_conv2 (Conv2D)        (None, 14, 14, 512)       2359808   \n",
      "_________________________________________________________________\n",
      "block5_conv3 (Conv2D)        (None, 14, 14, 512)       2359808   \n",
      "_________________________________________________________________\n",
      "block5_pool (MaxPooling2D)   (None, 7, 7, 512)         0         \n",
      "_________________________________________________________________\n",
      "flatten (Flatten)            (None, 25088)             0         \n",
      "_________________________________________________________________\n",
      "fc1 (Dense)                  (None, 4096)              102764544 \n",
      "_________________________________________________________________\n",
      "fc2 (Dense)                  (None, 4096)              16781312  \n",
      "=================================================================\n",
      "Total params: 134,260,544\n",
      "Trainable params: 134,260,544\n",
      "Non-trainable params: 0\n",
      "_________________________________________________________________\n"
     ]
    }
   ],
   "source": [
    "model.layers.pop() # We dont want 1000 classes, so remove the last layer\n",
    "model.summary()"
   ]
  },
  {
   "cell_type": "code",
   "execution_count": 15,
   "metadata": {},
   "outputs": [],
   "source": [
    "for layer in model.layers: #Since the model is already trained with certain weights, we dont want to change it. Let it be the same\n",
    "    layer.trainable = False"
   ]
  },
  {
   "cell_type": "code",
   "execution_count": 16,
   "metadata": {},
   "outputs": [
    {
     "name": "stdout",
     "output_type": "stream",
     "text": [
      "_________________________________________________________________\n",
      "Layer (type)                 Output Shape              Param #   \n",
      "=================================================================\n",
      "input_1 (InputLayer)         (None, 224, 224, 3)       0         \n",
      "_________________________________________________________________\n",
      "block1_conv1 (Conv2D)        (None, 224, 224, 64)      1792      \n",
      "_________________________________________________________________\n",
      "block1_conv2 (Conv2D)        (None, 224, 224, 64)      36928     \n",
      "_________________________________________________________________\n",
      "block1_pool (MaxPooling2D)   (None, 112, 112, 64)      0         \n",
      "_________________________________________________________________\n",
      "block2_conv1 (Conv2D)        (None, 112, 112, 128)     73856     \n",
      "_________________________________________________________________\n",
      "block2_conv2 (Conv2D)        (None, 112, 112, 128)     147584    \n",
      "_________________________________________________________________\n",
      "block2_pool (MaxPooling2D)   (None, 56, 56, 128)       0         \n",
      "_________________________________________________________________\n",
      "block3_conv1 (Conv2D)        (None, 56, 56, 256)       295168    \n",
      "_________________________________________________________________\n",
      "block3_conv2 (Conv2D)        (None, 56, 56, 256)       590080    \n",
      "_________________________________________________________________\n",
      "block3_conv3 (Conv2D)        (None, 56, 56, 256)       590080    \n",
      "_________________________________________________________________\n",
      "block3_pool (MaxPooling2D)   (None, 28, 28, 256)       0         \n",
      "_________________________________________________________________\n",
      "block4_conv1 (Conv2D)        (None, 28, 28, 512)       1180160   \n",
      "_________________________________________________________________\n",
      "block4_conv2 (Conv2D)        (None, 28, 28, 512)       2359808   \n",
      "_________________________________________________________________\n",
      "block4_conv3 (Conv2D)        (None, 28, 28, 512)       2359808   \n",
      "_________________________________________________________________\n",
      "block4_pool (MaxPooling2D)   (None, 14, 14, 512)       0         \n",
      "_________________________________________________________________\n",
      "block5_conv1 (Conv2D)        (None, 14, 14, 512)       2359808   \n",
      "_________________________________________________________________\n",
      "block5_conv2 (Conv2D)        (None, 14, 14, 512)       2359808   \n",
      "_________________________________________________________________\n",
      "block5_conv3 (Conv2D)        (None, 14, 14, 512)       2359808   \n",
      "_________________________________________________________________\n",
      "block5_pool (MaxPooling2D)   (None, 7, 7, 512)         0         \n",
      "_________________________________________________________________\n",
      "flatten (Flatten)            (None, 25088)             0         \n",
      "_________________________________________________________________\n",
      "fc1 (Dense)                  (None, 4096)              102764544 \n",
      "_________________________________________________________________\n",
      "fc2 (Dense)                  (None, 4096)              16781312  \n",
      "_________________________________________________________________\n",
      "dense_1 (Dense)              (None, 5)                 5005      \n",
      "=================================================================\n",
      "Total params: 134,265,549\n",
      "Trainable params: 5,005\n",
      "Non-trainable params: 134,260,544\n",
      "_________________________________________________________________\n"
     ]
    }
   ],
   "source": [
    "model.add(Dense(5, activation='sigmoid')) # Add the last layer\n",
    "model.summary()"
   ]
  },
  {
   "cell_type": "code",
   "execution_count": 17,
   "metadata": {},
   "outputs": [],
   "source": [
    "# Complie the model\n",
    "model.compile(Adam(lr=.00015), loss='categorical_crossentropy', metrics=['accuracy'])"
   ]
  },
  {
   "cell_type": "markdown",
   "metadata": {},
   "source": [
    "## 4.3 Train the Model"
   ]
  },
  {
   "cell_type": "code",
   "execution_count": 18,
   "metadata": {},
   "outputs": [
    {
     "name": "stdout",
     "output_type": "stream",
     "text": [
      "Epoch 1/5\n",
      "20/20 [==============================] - 647s 32s/step - loss: 1.6024 - acc: 0.4574 - val_loss: 1.5968 - val_acc: 0.7200\n",
      "Epoch 2/5\n",
      "20/20 [==============================] - 646s 32s/step - loss: 1.5902 - acc: 0.7890 - val_loss: 1.5882 - val_acc: 0.8400\n",
      "Epoch 3/5\n",
      "20/20 [==============================] - 647s 32s/step - loss: 1.5803 - acc: 0.9248 - val_loss: 1.5804 - val_acc: 0.9200\n",
      "Epoch 4/5\n",
      "20/20 [==============================] - 646s 32s/step - loss: 1.5732 - acc: 0.9724 - val_loss: 1.5758 - val_acc: 0.8600\n",
      "Epoch 5/5\n",
      "20/20 [==============================] - 646s 32s/step - loss: 1.5667 - acc: 0.9825 - val_loss: 1.5714 - val_acc: 0.9000\n"
     ]
    },
    {
     "data": {
      "text/plain": [
       "<keras.callbacks.History at 0x2b0b1a037a58>"
      ]
     },
     "execution_count": 18,
     "metadata": {},
     "output_type": "execute_result"
    }
   ],
   "source": [
    "model.fit_generator(train_batches, steps_per_epoch=20, \n",
    "                    validation_data=val_batches, validation_steps=20, epochs=5, verbose=1)"
   ]
  },
  {
   "cell_type": "markdown",
   "metadata": {},
   "source": [
    "## 4.4 Test the Model with External Test Images"
   ]
  },
  {
   "cell_type": "code",
   "execution_count": 19,
   "metadata": {},
   "outputs": [
    {
     "data": {
      "text/plain": [
       "array([[ 0.49045312,  0.48321047,  0.48106536,  0.51799881,  0.48700282],\n",
       "       [ 0.51645035,  0.48334283,  0.47801626,  0.50063127,  0.50346553],\n",
       "       [ 0.51644331,  0.48346132,  0.47810188,  0.50060511,  0.50322056],\n",
       "       [ 0.47638094,  0.5004338 ,  0.49348253,  0.48333481,  0.51741409],\n",
       "       [ 0.50119907,  0.48831484,  0.5204407 ,  0.4805955 ,  0.48646328],\n",
       "       [ 0.47953597,  0.51964068,  0.50977141,  0.47993723,  0.48288852],\n",
       "       [ 0.47959635,  0.51952171,  0.50971037,  0.47995955,  0.48302555],\n",
       "       [ 0.49047604,  0.48316553,  0.48100588,  0.51805109,  0.48692498],\n",
       "       [ 0.48975655,  0.48563409,  0.48283672,  0.51567882,  0.48692626],\n",
       "       [ 0.4795393 ,  0.51961815,  0.50976795,  0.47991693,  0.4829081 ],\n",
       "       [ 0.49668938,  0.51255488,  0.49431124,  0.49384063,  0.49430156],\n",
       "       [ 0.51634961,  0.48349392,  0.47844103,  0.50067508,  0.50323087],\n",
       "       [ 0.47662729,  0.50577444,  0.50625366,  0.49245915,  0.52240807],\n",
       "       [ 0.476302  ,  0.50052953,  0.49336094,  0.48336726,  0.51741624],\n",
       "       [ 0.5164364 ,  0.48336583,  0.47808301,  0.50063884,  0.503429  ],\n",
       "       [ 0.51644373,  0.48335508,  0.47806367,  0.50063998,  0.50344443],\n",
       "       [ 0.49047995,  0.48315281,  0.48099628,  0.51806396,  0.48692554],\n",
       "       [ 0.47900206,  0.51346737,  0.50337666,  0.48311651,  0.49467   ],\n",
       "       [ 0.50588125,  0.48658103,  0.52200395,  0.47786117,  0.48293754],\n",
       "       [ 0.47623116,  0.50094587,  0.49364951,  0.48325434,  0.51686144],\n",
       "       [ 0.50541335,  0.48661634,  0.52164662,  0.47847766,  0.48302197],\n",
       "       [ 0.49042609,  0.48323864,  0.48107263,  0.51793879,  0.48704019],\n",
       "       [ 0.48413375,  0.49362448,  0.5078038 ,  0.4874256 ,  0.50971431],\n",
       "       [ 0.4892565 ,  0.4877421 ,  0.51780856,  0.48362949,  0.49890402],\n",
       "       [ 0.50556493,  0.48675075,  0.52183187,  0.47803098,  0.4833366 ]], dtype=float32)"
      ]
     },
     "execution_count": 19,
     "metadata": {},
     "output_type": "execute_result"
    }
   ],
   "source": [
    "predictions = model.predict_generator(test_batches, steps=1, verbose=0)\n",
    "predictions"
   ]
  },
  {
   "cell_type": "code",
   "execution_count": 26,
   "metadata": {},
   "outputs": [
    {
     "name": "stdout",
     "output_type": "stream",
     "text": [
      "[3, 0, 0, 4, 2, 1, 1, 3, 3, 1, 1, 0, 4, 4, 0, 0, 3, 1, 2, 4, 2, 3, 4, 2, 2]\n",
      "23\n",
      "92.0\n"
     ]
    }
   ],
   "source": [
    "predictions\n",
    "y_pred=[]\n",
    "for i in range(len(predictions)):\n",
    "    y_pred.append(np.argmax(predictions[i]))\n",
    "print(y_pred)\n",
    "#plots(test_imgs, titles=y_pred)\n",
    "\n",
    "ctr=0\n",
    "for i in range(len(y_pred)):\n",
    "    if y_pred[i] == y_test[i]:\n",
    "        ctr=ctr+1\n",
    "res = ctr/len(y_pred)*100\n",
    "print(res)\n"
   ]
  },
  {
   "cell_type": "code",
   "execution_count": null,
   "metadata": {},
   "outputs": [],
   "source": []
  },
  {
   "cell_type": "code",
   "execution_count": null,
   "metadata": {},
   "outputs": [],
   "source": []
  }
 ],
 "metadata": {
  "kernelspec": {
   "display_name": "Python 3.5",
   "language": "python",
   "name": "python3"
  },
  "language_info": {
   "codemirror_mode": {
    "name": "ipython",
    "version": 3
   },
   "file_extension": ".py",
   "mimetype": "text/x-python",
   "name": "python",
   "nbconvert_exporter": "python",
   "pygments_lexer": "ipython3",
   "version": "3.5.4"
  }
 },
 "nbformat": 4,
 "nbformat_minor": 2
}
